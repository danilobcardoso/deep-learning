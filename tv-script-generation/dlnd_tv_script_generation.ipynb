{
 "cells": [
  {
   "cell_type": "markdown",
   "metadata": {},
   "source": [
    "# TV Script Generation\n",
    "In this project, you'll generate your own [Simpsons](https://en.wikipedia.org/wiki/The_Simpsons) TV scripts using RNNs.  You'll be using part of the [Simpsons dataset](https://www.kaggle.com/wcukierski/the-simpsons-by-the-data) of scripts from 27 seasons.  The Neural Network you'll build will generate a new TV script for a scene at [Moe's Tavern](https://simpsonswiki.com/wiki/Moe's_Tavern).\n",
    "## Get the Data\n",
    "The data is already provided for you.  You'll be using a subset of the original dataset.  It consists of only the scenes in Moe's Tavern.  This doesn't include other versions of the tavern, like \"Moe's Cavern\", \"Flaming Moe's\", \"Uncle Moe's Family Feed-Bag\", etc.."
   ]
  },
  {
   "cell_type": "code",
   "execution_count": 1,
   "metadata": {},
   "outputs": [],
   "source": [
    "\"\"\"\n",
    "DON'T MODIFY ANYTHING IN THIS CELL\n",
    "\"\"\"\n",
    "import helper\n",
    "\n",
    "data_dir = './data/simpsons/moes_tavern_lines.txt'\n",
    "text = helper.load_data(data_dir)\n",
    "# Ignore notice, since we don't use it for analysing the data\n",
    "text = text[81:]"
   ]
  },
  {
   "cell_type": "markdown",
   "metadata": {},
   "source": [
    "## Explore the Data\n",
    "Play around with `view_sentence_range` to view different parts of the data."
   ]
  },
  {
   "cell_type": "code",
   "execution_count": 2,
   "metadata": {},
   "outputs": [
    {
     "name": "stdout",
     "output_type": "stream",
     "text": [
      "Dataset Stats\n",
      "Roughly the number of unique words: 11492\n",
      "Number of scenes: 262\n",
      "Average number of sentences in each scene: 15.251908396946565\n",
      "Number of lines: 4258\n",
      "Average number of words in each line: 11.50164396430249\n",
      "\n",
      "The sentences 0 to 10:\n",
      "\n",
      "Moe_Szyslak: (INTO PHONE) Moe's Tavern. Where the elite meet to drink.\n",
      "Bart_Simpson: Eh, yeah, hello, is Mike there? Last name, Rotch.\n",
      "Moe_Szyslak: (INTO PHONE) Hold on, I'll check. (TO BARFLIES) Mike Rotch. Mike Rotch. Hey, has anybody seen Mike Rotch, lately?\n",
      "Moe_Szyslak: (INTO PHONE) Listen you little puke. One of these days I'm gonna catch you, and I'm gonna carve my name on your back with an ice pick.\n",
      "Moe_Szyslak: What's the matter Homer? You're not your normal effervescent self.\n",
      "Homer_Simpson: I got my problems, Moe. Give me another one.\n",
      "Moe_Szyslak: Homer, hey, you should not drink to forget your problems.\n",
      "Barney_Gumble: Yeah, you should only drink to enhance your social skills.\n",
      "\n"
     ]
    }
   ],
   "source": [
    "view_sentence_range = (0, 10)\n",
    "\n",
    "\"\"\"\n",
    "DON'T MODIFY ANYTHING IN THIS CELL\n",
    "\"\"\"\n",
    "import numpy as np\n",
    "\n",
    "print('Dataset Stats')\n",
    "print('Roughly the number of unique words: {}'.format(len({word: None for word in text.split()})))\n",
    "scenes = text.split('\\n\\n')\n",
    "print('Number of scenes: {}'.format(len(scenes)))\n",
    "sentence_count_scene = [scene.count('\\n') for scene in scenes]\n",
    "print('Average number of sentences in each scene: {}'.format(np.average(sentence_count_scene)))\n",
    "\n",
    "sentences = [sentence for scene in scenes for sentence in scene.split('\\n')]\n",
    "print('Number of lines: {}'.format(len(sentences)))\n",
    "word_count_sentence = [len(sentence.split()) for sentence in sentences]\n",
    "print('Average number of words in each line: {}'.format(np.average(word_count_sentence)))\n",
    "\n",
    "print()\n",
    "print('The sentences {} to {}:'.format(*view_sentence_range))\n",
    "print('\\n'.join(text.split('\\n')[view_sentence_range[0]:view_sentence_range[1]]))"
   ]
  },
  {
   "cell_type": "markdown",
   "metadata": {},
   "source": [
    "## Implement Preprocessing Functions\n",
    "The first thing to do to any dataset is preprocessing.  Implement the following preprocessing functions below:\n",
    "- Lookup Table\n",
    "- Tokenize Punctuation\n",
    "\n",
    "### Lookup Table\n",
    "To create a word embedding, you first need to transform the words to ids.  In this function, create two dictionaries:\n",
    "- Dictionary to go from the words to an id, we'll call `vocab_to_int`\n",
    "- Dictionary to go from the id to word, we'll call `int_to_vocab`\n",
    "\n",
    "Return these dictionaries in the following tuple `(vocab_to_int, int_to_vocab)`"
   ]
  },
  {
   "cell_type": "code",
   "execution_count": 3,
   "metadata": {},
   "outputs": [
    {
     "name": "stdout",
     "output_type": "stream",
     "text": [
      "Tests Passed\n"
     ]
    }
   ],
   "source": [
    "import numpy as np\n",
    "import problem_unittests as tests\n",
    "from collections import Counter\n",
    "\n",
    "def create_lookup_tables(text):\n",
    "    \"\"\"\n",
    "    Create lookup tables for vocabulary\n",
    "    :param text: The text of tv scripts split into words\n",
    "    :return: A tuple of dicts (vocab_to_int, int_to_vocab)\n",
    "    \"\"\"\n",
    "    word_counts = Counter(text)\n",
    "    int_to_vocab = {index: word for index, word in enumerate(word_counts)}\n",
    "    vocab_to_int = {word: index for index, word in int_to_vocab.items()}\n",
    "    \n",
    "    \n",
    "    # TODO: Implement Function\n",
    "    return vocab_to_int, int_to_vocab\n",
    "\n",
    "\n",
    "\"\"\"\n",
    "DON'T MODIFY ANYTHING IN THIS CELL THAT IS BELOW THIS LINE\n",
    "\"\"\"\n",
    "tests.test_create_lookup_tables(create_lookup_tables)"
   ]
  },
  {
   "cell_type": "markdown",
   "metadata": {},
   "source": [
    "### Tokenize Punctuation\n",
    "We'll be splitting the script into a word array using spaces as delimiters.  However, punctuations like periods and exclamation marks make it hard for the neural network to distinguish between the word \"bye\" and \"bye!\".\n",
    "\n",
    "Implement the function `token_lookup` to return a dict that will be used to tokenize symbols like \"!\" into \"||Exclamation_Mark||\".  Create a dictionary for the following symbols where the symbol is the key and value is the token:\n",
    "- Period ( . )\n",
    "- Comma ( , )\n",
    "- Quotation Mark ( \" )\n",
    "- Semicolon ( ; )\n",
    "- Exclamation mark ( ! )\n",
    "- Question mark ( ? )\n",
    "- Left Parentheses ( ( )\n",
    "- Right Parentheses ( ) )\n",
    "- Dash ( -- )\n",
    "- Return ( \\n )\n",
    "\n",
    "This dictionary will be used to token the symbols and add the delimiter (space) around it.  This separates the symbols as it's own word, making it easier for the neural network to predict on the next word. Make sure you don't use a token that could be confused as a word. Instead of using the token \"dash\", try using something like \"||dash||\"."
   ]
  },
  {
   "cell_type": "code",
   "execution_count": 4,
   "metadata": {},
   "outputs": [
    {
     "name": "stdout",
     "output_type": "stream",
     "text": [
      "Tests Passed\n"
     ]
    }
   ],
   "source": [
    "def token_lookup():\n",
    "    \"\"\"\n",
    "    Generate a dict to turn punctuation into a token.\n",
    "    :return: Tokenize dictionary where the key is the punctuation and the value is the token\n",
    "    \"\"\"\n",
    "    # TODO: Implement Function\n",
    "    tokens = {\n",
    "        '.': '<period>',\n",
    "        ',': '<comma>',\n",
    "        '\"': '<quote>',\n",
    "        ';': '<semicolon>',\n",
    "        '!': '<exclamation>',\n",
    "        '?': '<question>',\n",
    "        '(': '<open-parentheses>',\n",
    "        ')': '<close-parentheses>',\n",
    "        '--': '<dash>',\n",
    "        '\\n': '<new-line>'\n",
    "    }\n",
    "    return tokens\n",
    "\n",
    "\"\"\"\n",
    "DON'T MODIFY ANYTHING IN THIS CELL THAT IS BELOW THIS LINE\n",
    "\"\"\"\n",
    "tests.test_tokenize(token_lookup)"
   ]
  },
  {
   "cell_type": "markdown",
   "metadata": {},
   "source": [
    "## Preprocess all the data and save it\n",
    "Running the code cell below will preprocess all the data and save it to file."
   ]
  },
  {
   "cell_type": "code",
   "execution_count": 5,
   "metadata": {},
   "outputs": [],
   "source": [
    "\"\"\"\n",
    "DON'T MODIFY ANYTHING IN THIS CELL\n",
    "\"\"\"\n",
    "# Preprocess Training, Validation, and Testing Data\n",
    "helper.preprocess_and_save_data(data_dir, token_lookup, create_lookup_tables)"
   ]
  },
  {
   "cell_type": "markdown",
   "metadata": {},
   "source": [
    "# Check Point\n",
    "This is your first checkpoint. If you ever decide to come back to this notebook or have to restart the notebook, you can start from here. The preprocessed data has been saved to disk."
   ]
  },
  {
   "cell_type": "code",
   "execution_count": 6,
   "metadata": {},
   "outputs": [],
   "source": [
    "\"\"\"\n",
    "DON'T MODIFY ANYTHING IN THIS CELL\n",
    "\"\"\"\n",
    "import helper\n",
    "import numpy as np\n",
    "import problem_unittests as tests\n",
    "\n",
    "int_text, vocab_to_int, int_to_vocab, token_dict = helper.load_preprocess()"
   ]
  },
  {
   "cell_type": "markdown",
   "metadata": {},
   "source": [
    "## Build the Neural Network\n",
    "You'll build the components necessary to build a RNN by implementing the following functions below:\n",
    "- get_inputs\n",
    "- get_init_cell\n",
    "- get_embed\n",
    "- build_rnn\n",
    "- build_nn\n",
    "- get_batches\n",
    "\n",
    "### Check the Version of TensorFlow and Access to GPU"
   ]
  },
  {
   "cell_type": "code",
   "execution_count": 7,
   "metadata": {},
   "outputs": [
    {
     "name": "stdout",
     "output_type": "stream",
     "text": [
      "TensorFlow Version: 1.8.0\n",
      "Default GPU Device: /device:GPU:0\n"
     ]
    }
   ],
   "source": [
    "\"\"\"\n",
    "DON'T MODIFY ANYTHING IN THIS CELL\n",
    "\"\"\"\n",
    "from distutils.version import LooseVersion\n",
    "import warnings\n",
    "import tensorflow as tf\n",
    "\n",
    "# Check TensorFlow Version\n",
    "assert LooseVersion(tf.__version__) >= LooseVersion('1.3'), 'Please use TensorFlow version 1.3 or newer'\n",
    "print('TensorFlow Version: {}'.format(tf.__version__))\n",
    "\n",
    "# Check for a GPU\n",
    "if not tf.test.gpu_device_name():\n",
    "    warnings.warn('No GPU found. Please use a GPU to train your neural network.')\n",
    "else:\n",
    "    print('Default GPU Device: {}'.format(tf.test.gpu_device_name()))"
   ]
  },
  {
   "cell_type": "markdown",
   "metadata": {},
   "source": [
    "### Input\n",
    "Implement the `get_inputs()` function to create TF Placeholders for the Neural Network.  It should create the following placeholders:\n",
    "- Input text placeholder named \"input\" using the [TF Placeholder](https://www.tensorflow.org/api_docs/python/tf/placeholder) `name` parameter.\n",
    "- Targets placeholder\n",
    "- Learning Rate placeholder\n",
    "\n",
    "Return the placeholders in the following tuple `(Input, Targets, LearningRate)`"
   ]
  },
  {
   "cell_type": "code",
   "execution_count": 8,
   "metadata": {},
   "outputs": [
    {
     "name": "stdout",
     "output_type": "stream",
     "text": [
      "Tests Passed\n"
     ]
    }
   ],
   "source": [
    "def get_inputs():\n",
    "    \"\"\"\n",
    "    Create TF Placeholders for input, targets, and learning rate.\n",
    "    :return: Tuple (input, targets, learning rate)\n",
    "    \"\"\"\n",
    "    inputs = tf.placeholder(tf.int32, (None, None), name='input')\n",
    "    targets = tf.placeholder(tf.int32, (None,None), name='targets')\n",
    "    learning_rate = tf.placeholder(tf.float32)\n",
    "    # TODO: Implement Function\n",
    "    return inputs, targets, learning_rate\n",
    "\n",
    "\n",
    "\"\"\"\n",
    "DON'T MODIFY ANYTHING IN THIS CELL THAT IS BELOW THIS LINE\n",
    "\"\"\"\n",
    "tests.test_get_inputs(get_inputs)"
   ]
  },
  {
   "cell_type": "markdown",
   "metadata": {},
   "source": [
    "### Build RNN Cell and Initialize\n",
    "Stack one or more [`BasicLSTMCells`](https://www.tensorflow.org/api_docs/python/tf/contrib/rnn/BasicLSTMCell) in a [`MultiRNNCell`](https://www.tensorflow.org/api_docs/python/tf/contrib/rnn/MultiRNNCell).\n",
    "- The Rnn size should be set using `rnn_size`\n",
    "- Initalize Cell State using the MultiRNNCell's [`zero_state()`](https://www.tensorflow.org/api_docs/python/tf/contrib/rnn/MultiRNNCell#zero_state) function\n",
    "    - Apply the name \"initial_state\" to the initial state using [`tf.identity()`](https://www.tensorflow.org/api_docs/python/tf/identity)\n",
    "\n",
    "Return the cell and initial state in the following tuple `(Cell, InitialState)`"
   ]
  },
  {
   "cell_type": "code",
   "execution_count": 9,
   "metadata": {},
   "outputs": [
    {
     "name": "stdout",
     "output_type": "stream",
     "text": [
      "Tests Passed\n"
     ]
    }
   ],
   "source": [
    "def get_init_cell(batch_size, rnn_size):\n",
    "    \"\"\"\n",
    "    Create an RNN Cell and initialize it.\n",
    "    :param batch_size: Size of batches\n",
    "    :param rnn_size: Size of RNNs\n",
    "    :return: Tuple (cell, initialize state)\n",
    "    \"\"\"\n",
    "    # TODO: Implement Function\n",
    "    cell = tf.contrib.rnn.BasicLSTMCell(rnn_size)\n",
    "    drop = tf.contrib.rnn.DropoutWrapper(cell, output_keep_prob=0.5)\n",
    "    stack = tf.contrib.rnn.MultiRNNCell([drop])\n",
    "    initial_state = tf.identity(stack.zero_state(batch_size, tf.float32),name='initial_state')\n",
    "    return stack, initial_state\n",
    "\n",
    "\n",
    "\"\"\"\n",
    "DON'T MODIFY ANYTHING IN THIS CELL THAT IS BELOW THIS LINE\n",
    "\"\"\"\n",
    "tests.test_get_init_cell(get_init_cell)"
   ]
  },
  {
   "cell_type": "markdown",
   "metadata": {},
   "source": [
    "### Word Embedding\n",
    "Apply embedding to `input_data` using TensorFlow.  Return the embedded sequence."
   ]
  },
  {
   "cell_type": "code",
   "execution_count": 10,
   "metadata": {},
   "outputs": [
    {
     "name": "stdout",
     "output_type": "stream",
     "text": [
      "Tests Passed\n"
     ]
    }
   ],
   "source": [
    "def get_embed(input_data, vocab_size, embed_dim):\n",
    "    \"\"\"\n",
    "    Create embedding for <input_data>.\n",
    "    :param input_data: TF placeholder for text input.\n",
    "    :param vocab_size: Number of words in vocabulary.\n",
    "    :param embed_dim: Number of embedding dimensions\n",
    "    :return: Embedded input.\n",
    "    \"\"\"\n",
    "    # TODO: Implement Function\n",
    "    embedding = tf.Variable(tf.random_uniform((vocab_size, embed_dim), -1, 1), name='embedding')\n",
    "    embed = tf.nn.embedding_lookup(params=embedding, ids=input_data)\n",
    "    return embed\n",
    "\n",
    "\n",
    "\"\"\"\n",
    "DON'T MODIFY ANYTHING IN THIS CELL THAT IS BELOW THIS LINE\n",
    "\"\"\"\n",
    "tests.test_get_embed(get_embed)"
   ]
  },
  {
   "cell_type": "markdown",
   "metadata": {},
   "source": [
    "### Build RNN\n",
    "You created a RNN Cell in the `get_init_cell()` function.  Time to use the cell to create a RNN.\n",
    "- Build the RNN using the [`tf.nn.dynamic_rnn()`](https://www.tensorflow.org/api_docs/python/tf/nn/dynamic_rnn)\n",
    " - Apply the name \"final_state\" to the final state using [`tf.identity()`](https://www.tensorflow.org/api_docs/python/tf/identity)\n",
    "\n",
    "Return the outputs and final_state state in the following tuple `(Outputs, FinalState)` "
   ]
  },
  {
   "cell_type": "code",
   "execution_count": 11,
   "metadata": {},
   "outputs": [
    {
     "name": "stdout",
     "output_type": "stream",
     "text": [
      "Tests Passed\n"
     ]
    }
   ],
   "source": [
    "def build_rnn(cell, inputs):\n",
    "    \"\"\"\n",
    "    Create a RNN using a RNN Cell\n",
    "    :param cell: RNN Cell\n",
    "    :param inputs: Input text data\n",
    "    :return: Tuple (Outputs, Final State)\n",
    "    \"\"\"\n",
    "    # TODO: Implement Function\n",
    "    outputs, final_state = tf.nn.dynamic_rnn(cell, inputs, dtype=tf.float32)\n",
    "    final_state = tf.identity(final_state, name='final_state') \n",
    "    return outputs, final_state\n",
    "\n",
    "\n",
    "\"\"\"\n",
    "DON'T MODIFY ANYTHING IN THIS CELL THAT IS BELOW THIS LINE\n",
    "\"\"\"\n",
    "tests.test_build_rnn(build_rnn)"
   ]
  },
  {
   "cell_type": "markdown",
   "metadata": {},
   "source": [
    "### Build the Neural Network\n",
    "Apply the functions you implemented above to:\n",
    "- Apply embedding to `input_data` using your `get_embed(input_data, vocab_size, embed_dim)` function.\n",
    "- Build RNN using `cell` and your `build_rnn(cell, inputs)` function.\n",
    "- Apply a fully connected layer with a linear activation and `vocab_size` as the number of outputs.\n",
    "\n",
    "Return the logits and final state in the following tuple (Logits, FinalState) "
   ]
  },
  {
   "cell_type": "code",
   "execution_count": 12,
   "metadata": {},
   "outputs": [
    {
     "name": "stdout",
     "output_type": "stream",
     "text": [
      "Tests Passed\n"
     ]
    }
   ],
   "source": [
    "def build_nn(cell, rnn_size, input_data, vocab_size, embed_dim):\n",
    "    \"\"\"\n",
    "    Build part of the neural network\n",
    "    :param cell: RNN cell\n",
    "    :param rnn_size: Size of rnns\n",
    "    :param input_data: Input data\n",
    "    :param vocab_size: Vocabulary size\n",
    "    :param embed_dim: Number of embedding dimensions\n",
    "    :return: Tuple (Logits, FinalState)\n",
    "    \"\"\"\n",
    "    # TODO: Implement Function\n",
    "    embed = get_embed(input_data, vocab_size, embed_dim)\n",
    "    hidden, final_state = build_rnn(cell, embed)\n",
    "    logits = tf.contrib.layers.fully_connected(hidden, vocab_size, activation_fn=None)\n",
    "    return logits, final_state\n",
    "\n",
    "\n",
    "\"\"\"\n",
    "DON'T MODIFY ANYTHING IN THIS CELL THAT IS BELOW THIS LINE\n",
    "\"\"\"\n",
    "tests.test_build_nn(build_nn)"
   ]
  },
  {
   "cell_type": "markdown",
   "metadata": {},
   "source": [
    "### Batches\n",
    "Implement `get_batches` to create batches of input and targets using `int_text`.  The batches should be a Numpy array with the shape `(number of batches, 2, batch size, sequence length)`. Each batch contains two elements:\n",
    "- The first element is a single batch of **input** with the shape `[batch size, sequence length]`\n",
    "- The second element is a single batch of **targets** with the shape `[batch size, sequence length]`\n",
    "\n",
    "If you can't fill the last batch with enough data, drop the last batch.\n",
    "\n",
    "For example, `get_batches([1, 2, 3, 4, 5, 6, 7, 8, 9, 10, 11, 12, 13, 14, 15, 16, 17, 18, 19, 20], 3, 2)` would return a Numpy array of the following:\n",
    "```\n",
    "[\n",
    "  # First Batch\n",
    "  [\n",
    "    # Batch of Input\n",
    "    [[ 1  2], [ 7  8], [13 14]]\n",
    "    # Batch of targets\n",
    "    [[ 2  3], [ 8  9], [14 15]]\n",
    "  ]\n",
    "\n",
    "  # Second Batch\n",
    "  [\n",
    "    # Batch of Input\n",
    "    [[ 3  4], [ 9 10], [15 16]]\n",
    "    # Batch of targets\n",
    "    [[ 4  5], [10 11], [16 17]]\n",
    "  ]\n",
    "\n",
    "  # Third Batch\n",
    "  [\n",
    "    # Batch of Input\n",
    "    [[ 5  6], [11 12], [17 18]]\n",
    "    # Batch of targets\n",
    "    [[ 6  7], [12 13], [18  1]]\n",
    "  ]\n",
    "]\n",
    "```\n",
    "\n",
    "Notice that the last target value in the last batch is the first input value of the first batch. In this case, `1`. This is a common technique used when creating sequence batches, although it is rather unintuitive."
   ]
  },
  {
   "cell_type": "code",
   "execution_count": 13,
   "metadata": {},
   "outputs": [
    {
     "name": "stdout",
     "output_type": "stream",
     "text": [
      "Tests Passed\n"
     ]
    }
   ],
   "source": [
    "def get_batches(int_text, batch_size, seq_length):\n",
    "    \"\"\"\n",
    "    Return batches of input and target\n",
    "    :param int_text: Text with the words replaced by their ids\n",
    "    :param batch_size: The size of batch\n",
    "    :param seq_length: The length of sequence\n",
    "    :return: Batches as a Numpy array\n",
    "    \"\"\"\n",
    "    # TODO: Implement Function\n",
    "    seq_in_batch = len(int_text)//(seq_length*batch_size)\n",
    "    ins = np.array(int_text[:seq_length*batch_size*seq_in_batch])\n",
    "    outs = np.roll(ins, -1)\n",
    "    data = np.array([ins, outs])\n",
    "    \n",
    "    #Reorganize data to reshape accordingly the desired output\n",
    "    org1 = np.reshape(data, (-1, seq_in_batch,seq_length))\n",
    "    org2 = np.transpose(org1, axes=[1,0,2])\n",
    "    org3 = np.reshape(org2,(-1,2,batch_size,seq_length) )\n",
    "    \n",
    "    return org3\n",
    "    \n",
    "#\"\"\"\n",
    "#DON'T MODIFY ANYTHING IN THIS CELL THAT IS BELOW THIS LINE\n",
    "#\"\"\"\n",
    "tests.test_get_batches(get_batches)"
   ]
  },
  {
   "cell_type": "markdown",
   "metadata": {},
   "source": [
    "## Neural Network Training\n",
    "### Hyperparameters\n",
    "Tune the following parameters:\n",
    "\n",
    "- Set `num_epochs` to the number of epochs.\n",
    "- Set `batch_size` to the batch size.\n",
    "- Set `rnn_size` to the size of the RNNs.\n",
    "- Set `embed_dim` to the size of the embedding.\n",
    "- Set `seq_length` to the length of sequence.\n",
    "- Set `learning_rate` to the learning rate.\n",
    "- Set `show_every_n_batches` to the number of batches the neural network should print progress."
   ]
  },
  {
   "cell_type": "code",
   "execution_count": 16,
   "metadata": {},
   "outputs": [],
   "source": [
    "# Number of Epochs\n",
    "num_epochs = 5000\n",
    "# Batch Size\n",
    "batch_size = 100\n",
    "# RNN Size\n",
    "rnn_size = 256\n",
    "# Embedding Dimension Size\n",
    "embed_dim = 300\n",
    "# Sequence Length\n",
    "seq_length = 25\n",
    "# Learning Rate\n",
    "learning_rate = 0.001\n",
    "# Show stats for every n number of batches\n",
    "show_every_n_batches = 540\n",
    "\n",
    "\"\"\"\n",
    "DON'T MODIFY ANYTHING IN THIS CELL THAT IS BELOW THIS LINE\n",
    "\"\"\"\n",
    "save_dir = './save'"
   ]
  },
  {
   "cell_type": "markdown",
   "metadata": {},
   "source": [
    "### Build the Graph\n",
    "Build the graph using the neural network you implemented."
   ]
  },
  {
   "cell_type": "code",
   "execution_count": 17,
   "metadata": {},
   "outputs": [],
   "source": [
    "\"\"\"\n",
    "DON'T MODIFY ANYTHING IN THIS CELL\n",
    "\"\"\"\n",
    "from tensorflow.contrib import seq2seq\n",
    "\n",
    "train_graph = tf.Graph()\n",
    "with train_graph.as_default():\n",
    "    vocab_size = len(int_to_vocab)\n",
    "    input_text, targets, lr = get_inputs()\n",
    "    input_data_shape = tf.shape(input_text)\n",
    "    cell, initial_state = get_init_cell(input_data_shape[0], rnn_size)\n",
    "    logits, final_state = build_nn(cell, rnn_size, input_text, vocab_size, embed_dim)\n",
    "\n",
    "    # Probabilities for generating words\n",
    "    probs = tf.nn.softmax(logits, name='probs')\n",
    "\n",
    "    # Loss function\n",
    "    cost = seq2seq.sequence_loss(\n",
    "        logits,\n",
    "        targets,\n",
    "        tf.ones([input_data_shape[0], input_data_shape[1]]))\n",
    "\n",
    "    # Optimizer\n",
    "    optimizer = tf.train.AdamOptimizer(lr)\n",
    "\n",
    "    # Gradient Clipping\n",
    "    gradients = optimizer.compute_gradients(cost)\n",
    "    capped_gradients = [(tf.clip_by_value(grad, -1., 1.), var) for grad, var in gradients if grad is not None]\n",
    "    train_op = optimizer.apply_gradients(capped_gradients)"
   ]
  },
  {
   "cell_type": "markdown",
   "metadata": {},
   "source": [
    "## Train\n",
    "Train the neural network on the preprocessed data.  If you have a hard time getting a good loss, check the [forums](https://discussions.udacity.com/) to see if anyone is having the same problem."
   ]
  },
  {
   "cell_type": "code",
   "execution_count": 18,
   "metadata": {},
   "outputs": [
    {
     "name": "stdout",
     "output_type": "stream",
     "text": [
      "Epoch   0 Batch    0/27   train_loss = 8.824\n",
      "Epoch  20 Batch    0/27   train_loss = 4.416\n",
      "Epoch  40 Batch    0/27   train_loss = 3.784\n",
      "Epoch  60 Batch    0/27   train_loss = 3.312\n",
      "Epoch  80 Batch    0/27   train_loss = 2.950\n",
      "Epoch 100 Batch    0/27   train_loss = 2.690\n",
      "Epoch 120 Batch    0/27   train_loss = 2.442\n",
      "Epoch 140 Batch    0/27   train_loss = 2.212\n",
      "Epoch 160 Batch    0/27   train_loss = 2.014\n",
      "Epoch 180 Batch    0/27   train_loss = 1.984\n",
      "Epoch 200 Batch    0/27   train_loss = 1.716\n",
      "Epoch 220 Batch    0/27   train_loss = 1.577\n",
      "Epoch 240 Batch    0/27   train_loss = 1.466\n",
      "Epoch 260 Batch    0/27   train_loss = 1.406\n",
      "Epoch 280 Batch    0/27   train_loss = 1.347\n",
      "Epoch 300 Batch    0/27   train_loss = 1.237\n",
      "Epoch 320 Batch    0/27   train_loss = 1.178\n",
      "Epoch 340 Batch    0/27   train_loss = 1.157\n",
      "Epoch 360 Batch    0/27   train_loss = 1.048\n",
      "Epoch 380 Batch    0/27   train_loss = 1.011\n",
      "Epoch 400 Batch    0/27   train_loss = 1.066\n",
      "Epoch 420 Batch    0/27   train_loss = 0.899\n",
      "Epoch 440 Batch    0/27   train_loss = 0.884\n",
      "Epoch 460 Batch    0/27   train_loss = 0.839\n",
      "Epoch 480 Batch    0/27   train_loss = 0.818\n",
      "Epoch 500 Batch    0/27   train_loss = 0.759\n",
      "Epoch 520 Batch    0/27   train_loss = 0.770\n",
      "Epoch 540 Batch    0/27   train_loss = 0.732\n",
      "Epoch 560 Batch    0/27   train_loss = 0.680\n",
      "Epoch 580 Batch    0/27   train_loss = 0.652\n",
      "Epoch 600 Batch    0/27   train_loss = 0.642\n",
      "Epoch 620 Batch    0/27   train_loss = 0.639\n",
      "Epoch 640 Batch    0/27   train_loss = 0.633\n",
      "Epoch 660 Batch    0/27   train_loss = 0.657\n",
      "Epoch 680 Batch    0/27   train_loss = 0.568\n",
      "Epoch 700 Batch    0/27   train_loss = 0.561\n",
      "Epoch 720 Batch    0/27   train_loss = 0.540\n",
      "Epoch 740 Batch    0/27   train_loss = 0.536\n",
      "Epoch 760 Batch    0/27   train_loss = 0.528\n",
      "Epoch 780 Batch    0/27   train_loss = 0.585\n",
      "Epoch 800 Batch    0/27   train_loss = 0.508\n",
      "Epoch 820 Batch    0/27   train_loss = 0.489\n",
      "Epoch 840 Batch    0/27   train_loss = 0.485\n",
      "Epoch 860 Batch    0/27   train_loss = 0.485\n",
      "Epoch 880 Batch    0/27   train_loss = 0.485\n",
      "Epoch 900 Batch    0/27   train_loss = 0.444\n",
      "Epoch 920 Batch    0/27   train_loss = 0.422\n",
      "Epoch 940 Batch    0/27   train_loss = 0.429\n",
      "Epoch 960 Batch    0/27   train_loss = 0.438\n",
      "Epoch 980 Batch    0/27   train_loss = 0.443\n",
      "Epoch 1000 Batch    0/27   train_loss = 0.436\n",
      "Epoch 1020 Batch    0/27   train_loss = 0.454\n",
      "Epoch 1040 Batch    0/27   train_loss = 0.448\n",
      "Epoch 1060 Batch    0/27   train_loss = 0.394\n",
      "Epoch 1080 Batch    0/27   train_loss = 0.390\n",
      "Epoch 1100 Batch    0/27   train_loss = 0.402\n",
      "Epoch 1120 Batch    0/27   train_loss = 0.374\n",
      "Epoch 1140 Batch    0/27   train_loss = 0.380\n",
      "Epoch 1160 Batch    0/27   train_loss = 0.394\n",
      "Epoch 1180 Batch    0/27   train_loss = 0.377\n",
      "Epoch 1200 Batch    0/27   train_loss = 0.393\n",
      "Epoch 1220 Batch    0/27   train_loss = 0.378\n",
      "Epoch 1240 Batch    0/27   train_loss = 0.376\n",
      "Epoch 1260 Batch    0/27   train_loss = 0.357\n",
      "Epoch 1280 Batch    0/27   train_loss = 0.358\n",
      "Epoch 1300 Batch    0/27   train_loss = 0.357\n",
      "Epoch 1320 Batch    0/27   train_loss = 0.369\n",
      "Epoch 1340 Batch    0/27   train_loss = 0.354\n",
      "Epoch 1360 Batch    0/27   train_loss = 0.330\n",
      "Epoch 1380 Batch    0/27   train_loss = 0.342\n",
      "Epoch 1400 Batch    0/27   train_loss = 0.308\n",
      "Epoch 1420 Batch    0/27   train_loss = 0.355\n",
      "Epoch 1440 Batch    0/27   train_loss = 0.314\n",
      "Epoch 1460 Batch    0/27   train_loss = 0.328\n",
      "Epoch 1480 Batch    0/27   train_loss = 0.348\n",
      "Epoch 1500 Batch    0/27   train_loss = 0.332\n",
      "Epoch 1520 Batch    0/27   train_loss = 0.333\n",
      "Epoch 1540 Batch    0/27   train_loss = 0.330\n",
      "Epoch 1560 Batch    0/27   train_loss = 0.316\n",
      "Epoch 1580 Batch    0/27   train_loss = 0.322\n",
      "Epoch 1600 Batch    0/27   train_loss = 0.303\n",
      "Epoch 1620 Batch    0/27   train_loss = 0.323\n",
      "Epoch 1640 Batch    0/27   train_loss = 0.326\n",
      "Epoch 1660 Batch    0/27   train_loss = 0.319\n",
      "Epoch 1680 Batch    0/27   train_loss = 0.309\n",
      "Epoch 1700 Batch    0/27   train_loss = 0.307\n",
      "Epoch 1720 Batch    0/27   train_loss = 0.307\n",
      "Epoch 1740 Batch    0/27   train_loss = 0.315\n",
      "Epoch 1760 Batch    0/27   train_loss = 0.307\n",
      "Epoch 1780 Batch    0/27   train_loss = 0.312\n",
      "Epoch 1800 Batch    0/27   train_loss = 0.315\n",
      "Epoch 1820 Batch    0/27   train_loss = 0.291\n",
      "Epoch 1840 Batch    0/27   train_loss = 0.301\n",
      "Epoch 1860 Batch    0/27   train_loss = 0.285\n",
      "Epoch 1880 Batch    0/27   train_loss = 0.312\n",
      "Epoch 1900 Batch    0/27   train_loss = 0.297\n",
      "Epoch 1920 Batch    0/27   train_loss = 0.286\n",
      "Epoch 1940 Batch    0/27   train_loss = 0.304\n",
      "Epoch 1960 Batch    0/27   train_loss = 0.323\n",
      "Epoch 1980 Batch    0/27   train_loss = 0.287\n",
      "Epoch 2000 Batch    0/27   train_loss = 0.288\n",
      "Epoch 2020 Batch    0/27   train_loss = 0.305\n",
      "Epoch 2040 Batch    0/27   train_loss = 0.270\n",
      "Epoch 2060 Batch    0/27   train_loss = 0.273\n",
      "Epoch 2080 Batch    0/27   train_loss = 0.288\n",
      "Epoch 2100 Batch    0/27   train_loss = 0.268\n",
      "Epoch 2120 Batch    0/27   train_loss = 0.270\n",
      "Epoch 2140 Batch    0/27   train_loss = 0.272\n",
      "Epoch 2160 Batch    0/27   train_loss = 0.294\n",
      "Epoch 2180 Batch    0/27   train_loss = 0.274\n",
      "Epoch 2200 Batch    0/27   train_loss = 0.263\n",
      "Epoch 2220 Batch    0/27   train_loss = 0.310\n",
      "Epoch 2240 Batch    0/27   train_loss = 0.258\n",
      "Epoch 2260 Batch    0/27   train_loss = 0.249\n",
      "Epoch 2280 Batch    0/27   train_loss = 0.291\n",
      "Epoch 2300 Batch    0/27   train_loss = 0.267\n",
      "Epoch 2320 Batch    0/27   train_loss = 0.274\n",
      "Epoch 2340 Batch    0/27   train_loss = 0.280\n",
      "Epoch 2360 Batch    0/27   train_loss = 0.289\n",
      "Epoch 2380 Batch    0/27   train_loss = 0.247\n",
      "Epoch 2400 Batch    0/27   train_loss = 0.317\n",
      "Epoch 2420 Batch    0/27   train_loss = 0.252\n",
      "Epoch 2440 Batch    0/27   train_loss = 0.254\n",
      "Epoch 2460 Batch    0/27   train_loss = 0.255\n",
      "Epoch 2480 Batch    0/27   train_loss = 0.266\n",
      "Epoch 2500 Batch    0/27   train_loss = 0.240\n",
      "Epoch 2520 Batch    0/27   train_loss = 0.272\n",
      "Epoch 2540 Batch    0/27   train_loss = 0.265\n",
      "Epoch 2560 Batch    0/27   train_loss = 0.254\n",
      "Epoch 2580 Batch    0/27   train_loss = 0.267\n",
      "Epoch 2600 Batch    0/27   train_loss = 0.272\n",
      "Epoch 2620 Batch    0/27   train_loss = 0.382\n",
      "Epoch 2640 Batch    0/27   train_loss = 0.243\n",
      "Epoch 2660 Batch    0/27   train_loss = 0.248\n",
      "Epoch 2680 Batch    0/27   train_loss = 0.228\n",
      "Epoch 2700 Batch    0/27   train_loss = 0.275\n",
      "Epoch 2720 Batch    0/27   train_loss = 0.262\n",
      "Epoch 2740 Batch    0/27   train_loss = 0.301\n",
      "Epoch 2760 Batch    0/27   train_loss = 0.253\n",
      "Epoch 2780 Batch    0/27   train_loss = 0.244\n",
      "Epoch 2800 Batch    0/27   train_loss = 0.221\n",
      "Epoch 2820 Batch    0/27   train_loss = 0.261\n",
      "Epoch 2840 Batch    0/27   train_loss = 0.256\n",
      "Epoch 2860 Batch    0/27   train_loss = 0.247\n",
      "Epoch 2880 Batch    0/27   train_loss = 0.249\n",
      "Epoch 2900 Batch    0/27   train_loss = 0.373\n",
      "Epoch 2920 Batch    0/27   train_loss = 0.249\n",
      "Epoch 2940 Batch    0/27   train_loss = 0.250\n",
      "Epoch 2960 Batch    0/27   train_loss = 0.251\n",
      "Epoch 2980 Batch    0/27   train_loss = 0.314\n",
      "Epoch 3000 Batch    0/27   train_loss = 0.263\n",
      "Epoch 3020 Batch    0/27   train_loss = 0.238\n",
      "Epoch 3040 Batch    0/27   train_loss = 0.259\n",
      "Epoch 3060 Batch    0/27   train_loss = 0.278\n",
      "Epoch 3080 Batch    0/27   train_loss = 0.249\n",
      "Epoch 3100 Batch    0/27   train_loss = 0.230\n",
      "Epoch 3120 Batch    0/27   train_loss = 0.250\n",
      "Epoch 3140 Batch    0/27   train_loss = 0.273\n",
      "Epoch 3160 Batch    0/27   train_loss = 0.236\n",
      "Epoch 3180 Batch    0/27   train_loss = 0.237\n",
      "Epoch 3200 Batch    0/27   train_loss = 0.321\n",
      "Epoch 3220 Batch    0/27   train_loss = 0.239\n",
      "Epoch 3240 Batch    0/27   train_loss = 0.244\n",
      "Epoch 3260 Batch    0/27   train_loss = 0.231\n",
      "Epoch 3280 Batch    0/27   train_loss = 0.244\n",
      "Epoch 3300 Batch    0/27   train_loss = 0.279\n",
      "Epoch 3320 Batch    0/27   train_loss = 0.256\n",
      "Epoch 3340 Batch    0/27   train_loss = 0.243\n",
      "Epoch 3360 Batch    0/27   train_loss = 0.256\n",
      "Epoch 3380 Batch    0/27   train_loss = 0.229\n",
      "Epoch 3400 Batch    0/27   train_loss = 0.233\n",
      "Epoch 3420 Batch    0/27   train_loss = 0.231\n",
      "Epoch 3440 Batch    0/27   train_loss = 0.274\n",
      "Epoch 3460 Batch    0/27   train_loss = 0.233\n",
      "Epoch 3480 Batch    0/27   train_loss = 0.223\n",
      "Epoch 3500 Batch    0/27   train_loss = 0.269\n",
      "Epoch 3520 Batch    0/27   train_loss = 0.279\n",
      "Epoch 3540 Batch    0/27   train_loss = 0.234\n",
      "Epoch 3560 Batch    0/27   train_loss = 0.220\n",
      "Epoch 3580 Batch    0/27   train_loss = 0.235\n"
     ]
    },
    {
     "name": "stdout",
     "output_type": "stream",
     "text": [
      "Epoch 3600 Batch    0/27   train_loss = 0.308\n",
      "Epoch 3620 Batch    0/27   train_loss = 0.230\n",
      "Epoch 3640 Batch    0/27   train_loss = 0.220\n",
      "Epoch 3660 Batch    0/27   train_loss = 0.220\n",
      "Epoch 3680 Batch    0/27   train_loss = 0.219\n",
      "Epoch 3700 Batch    0/27   train_loss = 0.326\n",
      "Epoch 3720 Batch    0/27   train_loss = 0.218\n",
      "Epoch 3740 Batch    0/27   train_loss = 0.217\n",
      "Epoch 3760 Batch    0/27   train_loss = 0.241\n",
      "Epoch 3780 Batch    0/27   train_loss = 0.230\n",
      "Epoch 3800 Batch    0/27   train_loss = 0.226\n",
      "Epoch 3820 Batch    0/27   train_loss = 0.239\n",
      "Epoch 3840 Batch    0/27   train_loss = 0.222\n",
      "Epoch 3860 Batch    0/27   train_loss = 0.213\n",
      "Epoch 3880 Batch    0/27   train_loss = 0.364\n",
      "Epoch 3900 Batch    0/27   train_loss = 0.272\n",
      "Epoch 3920 Batch    0/27   train_loss = 0.219\n",
      "Epoch 3940 Batch    0/27   train_loss = 0.242\n",
      "Epoch 3960 Batch    0/27   train_loss = 0.245\n",
      "Epoch 3980 Batch    0/27   train_loss = 0.231\n",
      "Epoch 4000 Batch    0/27   train_loss = 0.226\n",
      "Epoch 4020 Batch    0/27   train_loss = 0.226\n",
      "Epoch 4040 Batch    0/27   train_loss = 0.372\n",
      "Epoch 4060 Batch    0/27   train_loss = 0.227\n",
      "Epoch 4080 Batch    0/27   train_loss = 0.237\n",
      "Epoch 4100 Batch    0/27   train_loss = 0.224\n",
      "Epoch 4120 Batch    0/27   train_loss = 0.222\n",
      "Epoch 4140 Batch    0/27   train_loss = 0.459\n",
      "Epoch 4160 Batch    0/27   train_loss = 0.258\n",
      "Epoch 4180 Batch    0/27   train_loss = 0.228\n",
      "Epoch 4200 Batch    0/27   train_loss = 0.208\n",
      "Epoch 4220 Batch    0/27   train_loss = 0.234\n",
      "Epoch 4240 Batch    0/27   train_loss = 0.235\n",
      "Epoch 4260 Batch    0/27   train_loss = 0.209\n",
      "Epoch 4280 Batch    0/27   train_loss = 0.207\n",
      "Epoch 4300 Batch    0/27   train_loss = 0.262\n",
      "Epoch 4320 Batch    0/27   train_loss = 0.233\n",
      "Epoch 4340 Batch    0/27   train_loss = 0.239\n",
      "Epoch 4360 Batch    0/27   train_loss = 0.260\n",
      "Epoch 4380 Batch    0/27   train_loss = 0.240\n",
      "Epoch 4400 Batch    0/27   train_loss = 0.258\n",
      "Epoch 4420 Batch    0/27   train_loss = 0.221\n",
      "Epoch 4440 Batch    0/27   train_loss = 0.229\n",
      "Epoch 4460 Batch    0/27   train_loss = 0.234\n",
      "Epoch 4480 Batch    0/27   train_loss = 0.256\n",
      "Epoch 4500 Batch    0/27   train_loss = 0.213\n",
      "Epoch 4520 Batch    0/27   train_loss = 0.228\n",
      "Epoch 4540 Batch    0/27   train_loss = 0.265\n",
      "Epoch 4560 Batch    0/27   train_loss = 0.248\n",
      "Epoch 4580 Batch    0/27   train_loss = 0.240\n",
      "Epoch 4600 Batch    0/27   train_loss = 0.215\n",
      "Epoch 4620 Batch    0/27   train_loss = 0.204\n",
      "Epoch 4640 Batch    0/27   train_loss = 0.246\n",
      "Epoch 4660 Batch    0/27   train_loss = 0.220\n",
      "Epoch 4680 Batch    0/27   train_loss = 0.246\n",
      "Epoch 4700 Batch    0/27   train_loss = 0.213\n",
      "Epoch 4720 Batch    0/27   train_loss = 0.213\n",
      "Epoch 4740 Batch    0/27   train_loss = 0.217\n",
      "Epoch 4760 Batch    0/27   train_loss = 0.216\n",
      "Epoch 4780 Batch    0/27   train_loss = 0.388\n",
      "Epoch 4800 Batch    0/27   train_loss = 0.223\n",
      "Epoch 4820 Batch    0/27   train_loss = 0.227\n",
      "Epoch 4840 Batch    0/27   train_loss = 0.222\n",
      "Epoch 4860 Batch    0/27   train_loss = 0.220\n",
      "Epoch 4880 Batch    0/27   train_loss = 0.263\n",
      "Epoch 4900 Batch    0/27   train_loss = 0.255\n",
      "Epoch 4920 Batch    0/27   train_loss = 0.227\n",
      "Epoch 4940 Batch    0/27   train_loss = 0.208\n",
      "Epoch 4960 Batch    0/27   train_loss = 0.238\n",
      "Epoch 4980 Batch    0/27   train_loss = 0.234\n",
      "Model Trained and Saved\n"
     ]
    }
   ],
   "source": [
    "\"\"\"\n",
    "DON'T MODIFY ANYTHING IN THIS CELL\n",
    "\"\"\"\n",
    "batches = get_batches(int_text, batch_size, seq_length)\n",
    "\n",
    "with tf.Session(graph=train_graph) as sess:\n",
    "    sess.run(tf.global_variables_initializer())\n",
    "    for epoch_i in range(num_epochs):\n",
    "        state = sess.run(initial_state, {input_text: batches[0][0]})\n",
    "\n",
    "        for batch_i, (x, y) in enumerate(batches):\n",
    "            feed = {\n",
    "                input_text: x,\n",
    "                targets: y,\n",
    "                initial_state: state,\n",
    "                lr: learning_rate}\n",
    "            train_loss, state, _ = sess.run([cost, final_state, train_op], feed)\n",
    "\n",
    "            # Show every <show_every_n_batches> batches\n",
    "            if (epoch_i * len(batches) + batch_i) % show_every_n_batches == 0:\n",
    "                print('Epoch {:>3} Batch {:>4}/{}   train_loss = {:.3f}'.format(\n",
    "                    epoch_i,\n",
    "                    batch_i,\n",
    "                    len(batches),\n",
    "                    train_loss))\n",
    "\n",
    "    # Save Model\n",
    "    saver = tf.train.Saver()\n",
    "    saver.save(sess, save_dir)\n",
    "    print('Model Trained and Saved')"
   ]
  },
  {
   "cell_type": "markdown",
   "metadata": {},
   "source": [
    "## Save Parameters\n",
    "Save `seq_length` and `save_dir` for generating a new TV script."
   ]
  },
  {
   "cell_type": "code",
   "execution_count": 19,
   "metadata": {},
   "outputs": [],
   "source": [
    "\"\"\"\n",
    "DON'T MODIFY ANYTHING IN THIS CELL\n",
    "\"\"\"\n",
    "# Save parameters for checkpoint\n",
    "helper.save_params((seq_length, save_dir))"
   ]
  },
  {
   "cell_type": "markdown",
   "metadata": {},
   "source": [
    "# Checkpoint"
   ]
  },
  {
   "cell_type": "code",
   "execution_count": 20,
   "metadata": {},
   "outputs": [],
   "source": [
    "\"\"\"\n",
    "DON'T MODIFY ANYTHING IN THIS CELL\n",
    "\"\"\"\n",
    "import tensorflow as tf\n",
    "import numpy as np\n",
    "import helper\n",
    "import problem_unittests as tests\n",
    "\n",
    "_, vocab_to_int, int_to_vocab, token_dict = helper.load_preprocess()\n",
    "seq_length, load_dir = helper.load_params()"
   ]
  },
  {
   "cell_type": "markdown",
   "metadata": {},
   "source": [
    "## Implement Generate Functions\n",
    "### Get Tensors\n",
    "Get tensors from `loaded_graph` using the function [`get_tensor_by_name()`](https://www.tensorflow.org/api_docs/python/tf/Graph#get_tensor_by_name).  Get the tensors using the following names:\n",
    "- \"input:0\"\n",
    "- \"initial_state:0\"\n",
    "- \"final_state:0\"\n",
    "- \"probs:0\"\n",
    "\n",
    "Return the tensors in the following tuple `(InputTensor, InitialStateTensor, FinalStateTensor, ProbsTensor)` "
   ]
  },
  {
   "cell_type": "code",
   "execution_count": 21,
   "metadata": {},
   "outputs": [
    {
     "name": "stdout",
     "output_type": "stream",
     "text": [
      "Tests Passed\n"
     ]
    }
   ],
   "source": [
    "def get_tensors(loaded_graph):\n",
    "    \"\"\"\n",
    "    Get input, initial state, final state, and probabilities tensor from <loaded_graph>\n",
    "    :param loaded_graph: TensorFlow graph loaded from file\n",
    "    :return: Tuple (InputTensor, InitialStateTensor, FinalStateTensor, ProbsTensor)\n",
    "    \"\"\"\n",
    "    # TODO: Implement Function\n",
    "    input_tensor = loaded_graph.get_tensor_by_name('input:0')\n",
    "    initial_state_tensor = loaded_graph.get_tensor_by_name('initial_state:0')\n",
    "    final_state_tensor = loaded_graph.get_tensor_by_name('final_state:0')\n",
    "    probs_tensor = loaded_graph.get_tensor_by_name('probs:0')\n",
    "    return input_tensor, initial_state_tensor, final_state_tensor, probs_tensor\n",
    "\n",
    "\n",
    "\"\"\"\n",
    "DON'T MODIFY ANYTHING IN THIS CELL THAT IS BELOW THIS LINE\n",
    "\"\"\"\n",
    "tests.test_get_tensors(get_tensors)"
   ]
  },
  {
   "cell_type": "markdown",
   "metadata": {},
   "source": [
    "### Choose Word\n",
    "Implement the `pick_word()` function to select the next word using `probabilities`."
   ]
  },
  {
   "cell_type": "code",
   "execution_count": 22,
   "metadata": {},
   "outputs": [
    {
     "name": "stdout",
     "output_type": "stream",
     "text": [
      "Tests Passed\n"
     ]
    }
   ],
   "source": [
    "def pick_word(probabilities, int_to_vocab):\n",
    "    \"\"\"\n",
    "    Pick the next word in the generated text\n",
    "    :param probabilities: Probabilites of the next word\n",
    "    :param int_to_vocab: Dictionary of word ids as the keys and words as the values\n",
    "    :return: String of the predicted word\n",
    "    \"\"\"\n",
    "    # TODO: Implement Function\n",
    "    return int_to_vocab[np.argmax(probabilities)]\n",
    "\n",
    "\n",
    "\"\"\"\n",
    "DON'T MODIFY ANYTHING IN THIS CELL THAT IS BELOW THIS LINE\n",
    "\"\"\"\n",
    "tests.test_pick_word(pick_word)"
   ]
  },
  {
   "cell_type": "markdown",
   "metadata": {},
   "source": [
    "## Generate TV Script\n",
    "This will generate the TV script for you.  Set `gen_length` to the length of TV script you want to generate."
   ]
  },
  {
   "cell_type": "code",
   "execution_count": 24,
   "metadata": {},
   "outputs": [
    {
     "name": "stdout",
     "output_type": "stream",
     "text": [
      "INFO:tensorflow:Restoring parameters from ./save\n",
      "moe_szyslak: oh, boy one like!\n",
      "moe_szyslak: yeah.\n",
      "barney_gumble: the usual, moe. it's both like homer... also, uh, was a good thing.\n",
      "barney_gumble: oh, oh yeah?! i must be back to my hotel and practice my affectations for tomorrow. bon soir.(makes fritz feld with you) oh yeah? well, even get the mr. beer, moe?\n",
      "moe_szyslak: oh, it's a bad could beat it to my\n",
      "marge_simpson:...\n",
      "snake_jailbird:(to book) duff?\n",
      "lenny_leonard: come on, too!.. and if anybody.\" all shall. maybe.\n",
      "moe_szyslak:(serious who down this guy as he going to be moe's friends, change there!\n",
      "chief_wiggum: yeah. i don't need your sharity to good friend!\n",
      "announcer:(moan) sure. no, you've gotta tell ya take so why i have an idea.\n",
      "lenny_leonard: this is happy with a man, you\" remember where all knows, i. uh, uh, only up\n"
     ]
    }
   ],
   "source": [
    "gen_length = 200\n",
    "# homer_simpson, moe_szyslak, or Barney_Gumble\n",
    "prime_word = 'moe_szyslak'\n",
    "\n",
    "\"\"\"\n",
    "DON'T MODIFY ANYTHING IN THIS CELL THAT IS BELOW THIS LINE\n",
    "\"\"\"\n",
    "loaded_graph = tf.Graph()\n",
    "with tf.Session(graph=loaded_graph) as sess:\n",
    "    # Load saved model\n",
    "    loader = tf.train.import_meta_graph(load_dir + '.meta')\n",
    "    loader.restore(sess, load_dir)\n",
    "\n",
    "    # Get Tensors from loaded model\n",
    "    input_text, initial_state, final_state, probs = get_tensors(loaded_graph)\n",
    "\n",
    "    # Sentences generation setup\n",
    "    gen_sentences = [prime_word + ':']\n",
    "    prev_state = sess.run(initial_state, {input_text: np.array([[1]])})\n",
    "\n",
    "    # Generate sentences\n",
    "    for n in range(gen_length):\n",
    "        # Dynamic Input\n",
    "        dyn_input = [[vocab_to_int[word] for word in gen_sentences[-seq_length:]]]\n",
    "        dyn_seq_length = len(dyn_input[0])\n",
    "\n",
    "        # Get Prediction\n",
    "        probabilities, prev_state = sess.run(\n",
    "            [probs, final_state],\n",
    "            {input_text: dyn_input, initial_state: prev_state})\n",
    "        \n",
    "        pred_word = pick_word(probabilities[0][dyn_seq_length-1], int_to_vocab)\n",
    "\n",
    "        gen_sentences.append(pred_word)\n",
    "    \n",
    "    # Remove tokens\n",
    "    tv_script = ' '.join(gen_sentences)\n",
    "    for key, token in token_dict.items():\n",
    "        ending = ' ' if key in ['\\n', '(', '\"'] else ''\n",
    "        tv_script = tv_script.replace(' ' + token.lower(), key)\n",
    "    tv_script = tv_script.replace('\\n ', '\\n')\n",
    "    tv_script = tv_script.replace('( ', '(')\n",
    "        \n",
    "    print(tv_script)"
   ]
  },
  {
   "cell_type": "markdown",
   "metadata": {},
   "source": [
    "# The TV Script is Nonsensical\n",
    "It's ok if the TV script doesn't make any sense.  We trained on less than a megabyte of text.  In order to get good results, you'll have to use a smaller vocabulary or get more data.  Luckily there's more data!  As we mentioned in the beggining of this project, this is a subset of [another dataset](https://www.kaggle.com/wcukierski/the-simpsons-by-the-data).  We didn't have you train on all the data, because that would take too long.  However, you are free to train your neural network on all the data.  After you complete the project, of course.\n",
    "# Submitting This Project\n",
    "When submitting this project, make sure to run all the cells before saving the notebook. Save the notebook file as \"dlnd_tv_script_generation.ipynb\" and save it as a HTML file under \"File\" -> \"Download as\". Include the \"helper.py\" and \"problem_unittests.py\" files in your submission."
   ]
  }
 ],
 "metadata": {
  "kernelspec": {
   "display_name": "Python 3",
   "language": "python",
   "name": "python3"
  },
  "language_info": {
   "codemirror_mode": {
    "name": "ipython",
    "version": 3
   },
   "file_extension": ".py",
   "mimetype": "text/x-python",
   "name": "python",
   "nbconvert_exporter": "python",
   "pygments_lexer": "ipython3",
   "version": "3.6.6"
  },
  "widgets": {
   "state": {},
   "version": "1.1.2"
  }
 },
 "nbformat": 4,
 "nbformat_minor": 1
}
